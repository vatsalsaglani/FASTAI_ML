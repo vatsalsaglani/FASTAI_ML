{
 "cells": [
  {
   "cell_type": "code",
   "execution_count": 1,
   "metadata": {},
   "outputs": [],
   "source": [
    "import pandas as pd\n",
    "import numpy as np\n",
    "import matplotlib.pyplot as plt\n",
    "from tqdm import tqdm"
   ]
  },
  {
   "cell_type": "code",
   "execution_count": 2,
   "metadata": {},
   "outputs": [],
   "source": [
    "data = pd.read_csv('del-data.csv')"
   ]
  },
  {
   "cell_type": "code",
   "execution_count": 3,
   "metadata": {},
   "outputs": [
    {
     "data": {
      "text/html": [
       "<div>\n",
       "<style scoped>\n",
       "    .dataframe tbody tr th:only-of-type {\n",
       "        vertical-align: middle;\n",
       "    }\n",
       "\n",
       "    .dataframe tbody tr th {\n",
       "        vertical-align: top;\n",
       "    }\n",
       "\n",
       "    .dataframe thead th {\n",
       "        text-align: right;\n",
       "    }\n",
       "</style>\n",
       "<table border=\"1\" class=\"dataframe\">\n",
       "  <thead>\n",
       "    <tr style=\"text-align: right;\">\n",
       "      <th></th>\n",
       "      <th>timestamp-data</th>\n",
       "      <th>timestamp-time</th>\n",
       "      <th>epoch</th>\n",
       "      <th>mote-id</th>\n",
       "      <th>temperature</th>\n",
       "      <th>humidity</th>\n",
       "      <th>light</th>\n",
       "      <th>voltage</th>\n",
       "      <th>x-cord</th>\n",
       "      <th>y-cord</th>\n",
       "    </tr>\n",
       "  </thead>\n",
       "  <tbody>\n",
       "    <tr>\n",
       "      <th>0</th>\n",
       "      <td>2004-03-31</td>\n",
       "      <td>03:38:15.757551</td>\n",
       "      <td>2</td>\n",
       "      <td>1.0</td>\n",
       "      <td>122.1530</td>\n",
       "      <td>-3.91901</td>\n",
       "      <td>11.04</td>\n",
       "      <td>2.03397</td>\n",
       "      <td>21.5</td>\n",
       "      <td>23</td>\n",
       "    </tr>\n",
       "    <tr>\n",
       "      <th>1</th>\n",
       "      <td>2004-02-28</td>\n",
       "      <td>00:59:16.02785</td>\n",
       "      <td>3</td>\n",
       "      <td>1.0</td>\n",
       "      <td>19.9884</td>\n",
       "      <td>37.09330</td>\n",
       "      <td>45.08</td>\n",
       "      <td>2.69964</td>\n",
       "      <td>21.5</td>\n",
       "      <td>23</td>\n",
       "    </tr>\n",
       "    <tr>\n",
       "      <th>2</th>\n",
       "      <td>2004-02-28</td>\n",
       "      <td>01:03:16.33393</td>\n",
       "      <td>11</td>\n",
       "      <td>1.0</td>\n",
       "      <td>19.3024</td>\n",
       "      <td>38.46290</td>\n",
       "      <td>45.08</td>\n",
       "      <td>2.68742</td>\n",
       "      <td>21.5</td>\n",
       "      <td>23</td>\n",
       "    </tr>\n",
       "    <tr>\n",
       "      <th>3</th>\n",
       "      <td>2004-02-28</td>\n",
       "      <td>01:06:16.013453</td>\n",
       "      <td>17</td>\n",
       "      <td>1.0</td>\n",
       "      <td>19.1652</td>\n",
       "      <td>38.80390</td>\n",
       "      <td>45.08</td>\n",
       "      <td>2.68742</td>\n",
       "      <td>21.5</td>\n",
       "      <td>23</td>\n",
       "    </tr>\n",
       "    <tr>\n",
       "      <th>4</th>\n",
       "      <td>2004-02-28</td>\n",
       "      <td>01:06:46.778088</td>\n",
       "      <td>18</td>\n",
       "      <td>1.0</td>\n",
       "      <td>19.1750</td>\n",
       "      <td>38.83790</td>\n",
       "      <td>45.08</td>\n",
       "      <td>2.69964</td>\n",
       "      <td>21.5</td>\n",
       "      <td>23</td>\n",
       "    </tr>\n",
       "  </tbody>\n",
       "</table>\n",
       "</div>"
      ],
      "text/plain": [
       "  timestamp-data   timestamp-time  epoch  mote-id  temperature  humidity  \\\n",
       "0     2004-03-31  03:38:15.757551      2      1.0     122.1530  -3.91901   \n",
       "1     2004-02-28   00:59:16.02785      3      1.0      19.9884  37.09330   \n",
       "2     2004-02-28   01:03:16.33393     11      1.0      19.3024  38.46290   \n",
       "3     2004-02-28  01:06:16.013453     17      1.0      19.1652  38.80390   \n",
       "4     2004-02-28  01:06:46.778088     18      1.0      19.1750  38.83790   \n",
       "\n",
       "   light  voltage  x-cord  y-cord  \n",
       "0  11.04  2.03397    21.5      23  \n",
       "1  45.08  2.69964    21.5      23  \n",
       "2  45.08  2.68742    21.5      23  \n",
       "3  45.08  2.68742    21.5      23  \n",
       "4  45.08  2.69964    21.5      23  "
      ]
     },
     "execution_count": 3,
     "metadata": {},
     "output_type": "execute_result"
    }
   ],
   "source": [
    "data.head()"
   ]
  },
  {
   "cell_type": "code",
   "execution_count": 4,
   "metadata": {},
   "outputs": [],
   "source": [
    "data.drop(['timestamp-data', 'timestamp-time', 'epoch'], axis=1, inplace=True)"
   ]
  },
  {
   "cell_type": "code",
   "execution_count": 5,
   "metadata": {},
   "outputs": [
    {
     "data": {
      "text/html": [
       "<div>\n",
       "<style scoped>\n",
       "    .dataframe tbody tr th:only-of-type {\n",
       "        vertical-align: middle;\n",
       "    }\n",
       "\n",
       "    .dataframe tbody tr th {\n",
       "        vertical-align: top;\n",
       "    }\n",
       "\n",
       "    .dataframe thead th {\n",
       "        text-align: right;\n",
       "    }\n",
       "</style>\n",
       "<table border=\"1\" class=\"dataframe\">\n",
       "  <thead>\n",
       "    <tr style=\"text-align: right;\">\n",
       "      <th></th>\n",
       "      <th>mote-id</th>\n",
       "      <th>temperature</th>\n",
       "      <th>humidity</th>\n",
       "      <th>light</th>\n",
       "      <th>voltage</th>\n",
       "      <th>x-cord</th>\n",
       "      <th>y-cord</th>\n",
       "    </tr>\n",
       "  </thead>\n",
       "  <tbody>\n",
       "    <tr>\n",
       "      <th>0</th>\n",
       "      <td>1.0</td>\n",
       "      <td>122.1530</td>\n",
       "      <td>-3.91901</td>\n",
       "      <td>11.04</td>\n",
       "      <td>2.03397</td>\n",
       "      <td>21.5</td>\n",
       "      <td>23</td>\n",
       "    </tr>\n",
       "    <tr>\n",
       "      <th>1</th>\n",
       "      <td>1.0</td>\n",
       "      <td>19.9884</td>\n",
       "      <td>37.09330</td>\n",
       "      <td>45.08</td>\n",
       "      <td>2.69964</td>\n",
       "      <td>21.5</td>\n",
       "      <td>23</td>\n",
       "    </tr>\n",
       "    <tr>\n",
       "      <th>2</th>\n",
       "      <td>1.0</td>\n",
       "      <td>19.3024</td>\n",
       "      <td>38.46290</td>\n",
       "      <td>45.08</td>\n",
       "      <td>2.68742</td>\n",
       "      <td>21.5</td>\n",
       "      <td>23</td>\n",
       "    </tr>\n",
       "    <tr>\n",
       "      <th>3</th>\n",
       "      <td>1.0</td>\n",
       "      <td>19.1652</td>\n",
       "      <td>38.80390</td>\n",
       "      <td>45.08</td>\n",
       "      <td>2.68742</td>\n",
       "      <td>21.5</td>\n",
       "      <td>23</td>\n",
       "    </tr>\n",
       "    <tr>\n",
       "      <th>4</th>\n",
       "      <td>1.0</td>\n",
       "      <td>19.1750</td>\n",
       "      <td>38.83790</td>\n",
       "      <td>45.08</td>\n",
       "      <td>2.69964</td>\n",
       "      <td>21.5</td>\n",
       "      <td>23</td>\n",
       "    </tr>\n",
       "  </tbody>\n",
       "</table>\n",
       "</div>"
      ],
      "text/plain": [
       "   mote-id  temperature  humidity  light  voltage  x-cord  y-cord\n",
       "0      1.0     122.1530  -3.91901  11.04  2.03397    21.5      23\n",
       "1      1.0      19.9884  37.09330  45.08  2.69964    21.5      23\n",
       "2      1.0      19.3024  38.46290  45.08  2.68742    21.5      23\n",
       "3      1.0      19.1652  38.80390  45.08  2.68742    21.5      23\n",
       "4      1.0      19.1750  38.83790  45.08  2.69964    21.5      23"
      ]
     },
     "execution_count": 5,
     "metadata": {},
     "output_type": "execute_result"
    }
   ],
   "source": [
    "data.head()"
   ]
  },
  {
   "cell_type": "code",
   "execution_count": 6,
   "metadata": {},
   "outputs": [
    {
     "data": {
      "text/plain": [
       "2210084"
      ]
     },
     "execution_count": 6,
     "metadata": {},
     "output_type": "execute_result"
    }
   ],
   "source": [
    "len(data)"
   ]
  },
  {
   "cell_type": "code",
   "execution_count": 7,
   "metadata": {},
   "outputs": [],
   "source": [
    "def get_avg_attr(a, attr_name):\n",
    "    attr_vals = data[attr_name].values.tolist()\n",
    "    count = 0\n",
    "    tot = 0\n",
    "    with tqdm(total=len(attr_vals)) as pbar:\n",
    "        for attr in attr_vals:\n",
    "            indx = attr_vals.index(attr)\n",
    "            if mote[indx] == a:\n",
    "                count = count + 1\n",
    "                tot = attr + tot\n",
    "            pbar.update(1)\n",
    "    if count == 0:\n",
    "        return 0\n",
    "    else:\n",
    "        if tot/count == float('nan'):\n",
    "            return 0\n",
    "        else:\n",
    "            return tot/count\n",
    "        \n",
    "#     return tot/count\n",
    "            "
   ]
  },
  {
   "cell_type": "code",
   "execution_count": 8,
   "metadata": {},
   "outputs": [],
   "source": [
    "mote = data['mote-id'].values.tolist()"
   ]
  },
  {
   "cell_type": "code",
   "execution_count": 9,
   "metadata": {},
   "outputs": [],
   "source": [
    "mote_set = set(mote)"
   ]
  },
  {
   "cell_type": "code",
   "execution_count": 10,
   "metadata": {},
   "outputs": [
    {
     "data": {
      "text/plain": [
       "(2210084, 52)"
      ]
     },
     "execution_count": 10,
     "metadata": {},
     "output_type": "execute_result"
    }
   ],
   "source": [
    "len(mote), len(mote_set)"
   ]
  },
  {
   "cell_type": "code",
   "execution_count": 12,
   "metadata": {},
   "outputs": [
    {
     "name": "stderr",
     "output_type": "stream",
     "text": [
      "100%|██████████| 2210084/2210084 [08:12<00:00, 4491.71it/s]\n",
      "100%|██████████| 2210084/2210084 [08:10<00:00, 4506.08it/s]\n",
      "100%|██████████| 2210084/2210084 [08:10<00:00, 4506.88it/s]\n",
      "100%|██████████| 2210084/2210084 [08:13<00:00, 4481.68it/s]\n",
      "100%|██████████| 2210084/2210084 [08:12<00:00, 4486.75it/s]\n",
      "100%|██████████| 2210084/2210084 [08:11<00:00, 4493.81it/s]\n",
      "100%|██████████| 2210084/2210084 [08:12<00:00, 4491.52it/s]\n",
      "100%|██████████| 2210084/2210084 [08:11<00:00, 4493.61it/s]\n",
      "100%|██████████| 2210084/2210084 [08:10<00:00, 4508.66it/s]\n",
      "100%|██████████| 2210084/2210084 [08:12<00:00, 4487.03it/s]\n",
      "100%|██████████| 2210084/2210084 [08:16<00:00, 4454.15it/s]\n",
      "100%|██████████| 2210084/2210084 [08:17<00:00, 4445.69it/s]\n",
      "100%|██████████| 2210084/2210084 [08:17<00:00, 4446.63it/s]\n",
      "100%|██████████| 2210084/2210084 [08:16<00:00, 4447.28it/s]\n",
      "100%|██████████| 2210084/2210084 [08:16<00:00, 4452.43it/s]\n",
      "100%|██████████| 2210084/2210084 [08:17<00:00, 4442.28it/s]\n",
      "100%|██████████| 2210084/2210084 [08:20<00:00, 4417.10it/s]\n",
      "100%|██████████| 2210084/2210084 [08:21<00:00, 4403.46it/s]\n",
      "100%|██████████| 2210084/2210084 [08:19<00:00, 4428.82it/s]\n",
      "100%|██████████| 2210084/2210084 [08:19<00:00, 4424.00it/s]\n",
      "100%|██████████| 2210084/2210084 [08:25<00:00, 4370.20it/s]\n",
      "100%|██████████| 2210084/2210084 [08:21<00:00, 4404.11it/s]\n",
      "100%|██████████| 2210084/2210084 [08:22<00:00, 4395.36it/s]\n",
      "100%|██████████| 2210084/2210084 [08:24<00:00, 4377.39it/s]\n",
      "100%|██████████| 2210084/2210084 [08:24<00:00, 4382.33it/s]\n",
      "100%|██████████| 2210084/2210084 [08:26<00:00, 4364.23it/s]\n",
      "100%|██████████| 2210084/2210084 [08:23<00:00, 4392.20it/s]\n",
      "100%|██████████| 2210084/2210084 [08:24<00:00, 4380.59it/s]\n",
      "100%|██████████| 2210084/2210084 [08:24<00:00, 4378.07it/s]\n",
      "100%|██████████| 2210084/2210084 [08:21<00:00, 4411.14it/s]\n",
      "100%|██████████| 2210084/2210084 [08:18<00:00, 4437.49it/s]\n",
      "100%|██████████| 2210084/2210084 [08:24<00:00, 4383.27it/s]\n",
      "100%|██████████| 2210084/2210084 [08:25<00:00, 4369.14it/s]\n",
      "100%|██████████| 2210084/2210084 [08:26<00:00, 4363.62it/s]\n",
      "100%|██████████| 2210084/2210084 [08:26<00:00, 4361.77it/s]\n",
      "100%|██████████| 2210084/2210084 [08:26<00:00, 4363.64it/s]\n",
      "100%|██████████| 2210084/2210084 [08:25<00:00, 4372.61it/s]\n",
      "100%|██████████| 2210084/2210084 [08:27<00:00, 4351.45it/s]\n",
      "100%|██████████| 2210084/2210084 [08:20<00:00, 4416.63it/s]\n",
      "100%|██████████| 2210084/2210084 [08:24<00:00, 4384.95it/s]\n",
      "100%|██████████| 2210084/2210084 [08:25<00:00, 4371.11it/s]\n",
      "100%|██████████| 2210084/2210084 [08:28<00:00, 4344.15it/s]\n",
      "100%|██████████| 2210084/2210084 [08:28<00:00, 4343.27it/s]\n",
      "100%|██████████| 2210084/2210084 [08:28<00:00, 4345.85it/s]\n",
      "100%|██████████| 2210084/2210084 [08:29<00:00, 4335.22it/s]\n",
      "100%|██████████| 2210084/2210084 [08:30<00:00, 4331.96it/s]\n",
      "100%|██████████| 2210084/2210084 [08:28<00:00, 4342.56it/s]\n",
      "100%|██████████| 2210084/2210084 [08:29<00:00, 4333.62it/s]\n",
      "100%|██████████| 2210084/2210084 [08:29<00:00, 4337.52it/s]\n",
      "100%|██████████| 2210084/2210084 [08:30<00:00, 4327.63it/s]\n",
      "100%|██████████| 2210084/2210084 [08:28<00:00, 4343.03it/s]\n",
      "100%|██████████| 2210084/2210084 [08:29<00:00, 4339.72it/s]\n"
     ]
    }
   ],
   "source": [
    "get_all_temp_avg = dict()\n",
    "for m in mote_set:\n",
    "    get_all_temp_avg[m] = get_avg_attr(m, 'temperature')"
   ]
  },
  {
   "cell_type": "code",
   "execution_count": 13,
   "metadata": {},
   "outputs": [],
   "source": [
    "import pickle\n",
    "def save_pickle(filename, var):\n",
    "    with open(filename, \"wb\") as fp:\n",
    "        pickle.dump(var, fp)"
   ]
  },
  {
   "cell_type": "code",
   "execution_count": 14,
   "metadata": {},
   "outputs": [],
   "source": [
    "save_pickle('del_avg_temp', get_all_temp_avg)"
   ]
  },
  {
   "cell_type": "code",
   "execution_count": 15,
   "metadata": {},
   "outputs": [
    {
     "data": {
      "text/plain": [
       "{1.0: 39.876030401794,\n",
       " 2.0: 44.29845956639776,\n",
       " 3.0: 41.396476601816815,\n",
       " 4.0: 37.266016545848515,\n",
       " 6.0: 19.83578910149781,\n",
       " 7.0: 64.20005456284734,\n",
       " 8.0: 17.17860672000035,\n",
       " 9.0: 39.00020012964529,\n",
       " 10.0: 43.733252922173065,\n",
       " 11.0: 17.69163536876404,\n",
       " 12.0: 20.61642636005766,\n",
       " 13.0: 71.03082789992436,\n",
       " 14.0: 57.372815304709675,\n",
       " 15.0: 0,\n",
       " 16.0: 27.90237673434853,\n",
       " 17.0: 30.60102227171513,\n",
       " 18.0: 33.874678644254146,\n",
       " 19.0: 41.71284346648592,\n",
       " 20.0: 30.847387381703385,\n",
       " 21.0: 43.57361581581573,\n",
       " 22.0: 86.30532088827255,\n",
       " 23.0: 73.96979580419583,\n",
       " 24.0: 88.63872983151624,\n",
       " 25.0: 76.22914208144812,\n",
       " 26.0: 94.33813306370081,\n",
       " 27.0: 62.81007989556141,\n",
       " 29.0: 82.41920937499994,\n",
       " 30.0: 76.17528472222217,\n",
       " 31.0: 90.0121020920501,\n",
       " 32.0: 90.28411312217196,\n",
       " 33.0: 97.52552413793097,\n",
       " 34.0: 77.91275945945954,\n",
       " 35.0: 75.88172105263163,\n",
       " 36.0: 77.06229183673472,\n",
       " 37.0: 79.32894736842104,\n",
       " 38.0: 80.3850062827225,\n",
       " 39.0: 82.76230000000001,\n",
       " 40.0: 72.2933696969697,\n",
       " 41.0: 85.90847692307692,\n",
       " 42.0: 76.19512499999999,\n",
       " 43.0: 106.19733333333335,\n",
       " 44.0: 71.99746363636365,\n",
       " 45.0: 0,\n",
       " 46.0: 79.65648421052632,\n",
       " 47.0: 96.49204999999999,\n",
       " 48.0: 87.78288,\n",
       " 49.0: 6.4922,\n",
       " 50.0: 14.135083895131057,\n",
       " 51.0: 85.6708,\n",
       " 52.0: 74.12741111111112,\n",
       " 53.0: 14.843670370370388,\n",
       " 54.0: 20.5244918032787}"
      ]
     },
     "execution_count": 15,
     "metadata": {},
     "output_type": "execute_result"
    }
   ],
   "source": [
    "get_all_temp_avg"
   ]
  },
  {
   "cell_type": "code",
   "execution_count": null,
   "metadata": {},
   "outputs": [],
   "source": []
  }
 ],
 "metadata": {
  "kernelspec": {
   "display_name": "kerenv1",
   "language": "python",
   "name": "kerenv1"
  },
  "language_info": {
   "codemirror_mode": {
    "name": "ipython",
    "version": 3
   },
   "file_extension": ".py",
   "mimetype": "text/x-python",
   "name": "python",
   "nbconvert_exporter": "python",
   "pygments_lexer": "ipython3",
   "version": "3.6.8"
  }
 },
 "nbformat": 4,
 "nbformat_minor": 2
}
