{
 "cells": [
  {
   "cell_type": "code",
   "execution_count": 2,
   "metadata": {
    "collapsed": true
   },
   "outputs": [],
   "source": [
    "%matplotlib inline\n",
    "%reload_ext autoreload\n",
    "%autoreload 2"
   ]
  },
  {
   "cell_type": "code",
   "execution_count": 9,
   "metadata": {},
   "outputs": [
    {
     "ename": "SyntaxError",
     "evalue": "invalid syntax (core.py, line 31)",
     "output_type": "error",
     "traceback": [
      "Traceback \u001b[0;36m(most recent call last)\u001b[0m:\n",
      "  File \u001b[1;32m\"/Users/thevatsal/Desktop/~junk/FASTAI/lib/python3.7/site-packages/IPython/core/interactiveshell.py\"\u001b[0m, line \u001b[1;32m3267\u001b[0m, in \u001b[1;35mrun_code\u001b[0m\n    exec(code_obj, self.user_global_ns, self.user_ns)\n",
      "  File \u001b[1;32m\"<ipython-input-9-cf7240d509a4>\"\u001b[0m, line \u001b[1;32m3\u001b[0m, in \u001b[1;35m<module>\u001b[0m\n    from fastai.column_data import *\n",
      "  File \u001b[1;32m\"/Users/thevatsal/Desktop/~junk/FASTAI/lib/python3.7/site-packages/fastai/column_data.py\"\u001b[0m, line \u001b[1;32m3\u001b[0m, in \u001b[1;35m<module>\u001b[0m\n    from .dataset import *\n",
      "\u001b[0;36m  File \u001b[0;32m\"/Users/thevatsal/Desktop/~junk/FASTAI/lib/python3.7/site-packages/fastai/dataset.py\"\u001b[0;36m, line \u001b[0;32m5\u001b[0;36m, in \u001b[0;35m<module>\u001b[0;36m\u001b[0m\n\u001b[0;31m    from .core import *\u001b[0m\n",
      "\u001b[0;36m  File \u001b[0;32m\"/Users/thevatsal/Desktop/~junk/FASTAI/lib/python3.7/site-packages/fastai/core.py\"\u001b[0;36m, line \u001b[0;32m31\u001b[0m\n\u001b[0;31m    if cuda: a = to_gpu(a, async=True)\u001b[0m\n\u001b[0m                               ^\u001b[0m\n\u001b[0;31mSyntaxError\u001b[0m\u001b[0;31m:\u001b[0m invalid syntax\n"
     ]
    }
   ],
   "source": [
    "from fastai.imports import *\n",
    "from fastai.structured import *\n",
    "from fastai.column_data import *\n",
    "\n",
    "# np.set_printoptions(threshold=50, edgeitems=10)\n",
    "\n",
    "PATH = 'data/rossman'"
   ]
  }
 ],
 "metadata": {
  "kernelspec": {
   "display_name": "FASTAIML",
   "language": "python",
   "name": "fastaiml"
  },
  "language_info": {
   "codemirror_mode": {
    "name": "ipython",
    "version": 3
   },
   "file_extension": ".py",
   "mimetype": "text/x-python",
   "name": "python",
   "nbconvert_exporter": "python",
   "pygments_lexer": "ipython3",
   "version": "3.7.2"
  }
 },
 "nbformat": 4,
 "nbformat_minor": 2
}
